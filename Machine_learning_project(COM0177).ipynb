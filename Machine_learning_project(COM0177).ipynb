{
  "nbformat": 4,
  "nbformat_minor": 0,
  "metadata": {
    "colab": {
      "name": "Machine learning project(COM0177).ipynb",
      "provenance": [],
      "authorship_tag": "ABX9TyOW4+FhAJ+Fv5CgEwnNcfJ/",
      "include_colab_link": true
    },
    "kernelspec": {
      "name": "python3",
      "display_name": "Python 3"
    },
    "language_info": {
      "name": "python"
    }
  },
  "cells": [
    {
      "cell_type": "markdown",
      "metadata": {
        "id": "view-in-github",
        "colab_type": "text"
      },
      "source": [
        "<a href=\"https://colab.research.google.com/github/samyuktha78/PREDICTING-THE-SALARY-BASED-ON-THE-EXPERIENCE-PROJECT/blob/main/Machine_learning_project(COM0177).ipynb\" target=\"_parent\"><img src=\"https://colab.research.google.com/assets/colab-badge.svg\" alt=\"Open In Colab\"/></a>"
      ]
    },
    {
      "cell_type": "markdown",
      "metadata": {
        "id": "91qVWYUxKurS"
      },
      "source": [
        "name: sandra sai samyuktha\n",
        "\n",
        "roll.no:20191com0177\n",
        "\n",
        "sec:5com3\n",
        "\n",
        "PREDICTING THE SALARY BASED ON THE EXPERIENCE"
      ]
    },
    {
      "cell_type": "code",
      "metadata": {
        "id": "p7IkixEylxzC"
      },
      "source": [
        "import numpy as np\n",
        "import matplotlib.pyplot as plt\n",
        "import pandas as pd"
      ],
      "execution_count": null,
      "outputs": []
    },
    {
      "cell_type": "code",
      "metadata": {
        "id": "GXANcMzjmTLf"
      },
      "source": [
        "dataset=pd.read_csv(r\"/content/sample_data/Salary_Data.csv\")"
      ],
      "execution_count": null,
      "outputs": []
    },
    {
      "cell_type": "code",
      "metadata": {
        "id": "UVQO5m-LLL7f"
      },
      "source": [
        ""
      ],
      "execution_count": null,
      "outputs": []
    },
    {
      "cell_type": "code",
      "metadata": {
        "colab": {
          "base_uri": "https://localhost:8080/",
          "height": 357
        },
        "id": "3vFCoYWvmdX9",
        "outputId": "089bb0ac-cef2-41b4-a9dc-1c8225d27a2a"
      },
      "source": [
        "dataset.head(10)"
      ],
      "execution_count": null,
      "outputs": [
        {
          "output_type": "execute_result",
          "data": {
            "text/html": [
              "<div>\n",
              "<style scoped>\n",
              "    .dataframe tbody tr th:only-of-type {\n",
              "        vertical-align: middle;\n",
              "    }\n",
              "\n",
              "    .dataframe tbody tr th {\n",
              "        vertical-align: top;\n",
              "    }\n",
              "\n",
              "    .dataframe thead th {\n",
              "        text-align: right;\n",
              "    }\n",
              "</style>\n",
              "<table border=\"1\" class=\"dataframe\">\n",
              "  <thead>\n",
              "    <tr style=\"text-align: right;\">\n",
              "      <th></th>\n",
              "      <th>YearsExperience</th>\n",
              "      <th>Salary</th>\n",
              "    </tr>\n",
              "  </thead>\n",
              "  <tbody>\n",
              "    <tr>\n",
              "      <th>0</th>\n",
              "      <td>1.1</td>\n",
              "      <td>39343.0</td>\n",
              "    </tr>\n",
              "    <tr>\n",
              "      <th>1</th>\n",
              "      <td>1.3</td>\n",
              "      <td>46205.0</td>\n",
              "    </tr>\n",
              "    <tr>\n",
              "      <th>2</th>\n",
              "      <td>1.5</td>\n",
              "      <td>37731.0</td>\n",
              "    </tr>\n",
              "    <tr>\n",
              "      <th>3</th>\n",
              "      <td>2.0</td>\n",
              "      <td>43525.0</td>\n",
              "    </tr>\n",
              "    <tr>\n",
              "      <th>4</th>\n",
              "      <td>2.2</td>\n",
              "      <td>39891.0</td>\n",
              "    </tr>\n",
              "    <tr>\n",
              "      <th>5</th>\n",
              "      <td>2.9</td>\n",
              "      <td>56642.0</td>\n",
              "    </tr>\n",
              "    <tr>\n",
              "      <th>6</th>\n",
              "      <td>3.0</td>\n",
              "      <td>60150.0</td>\n",
              "    </tr>\n",
              "    <tr>\n",
              "      <th>7</th>\n",
              "      <td>3.2</td>\n",
              "      <td>54445.0</td>\n",
              "    </tr>\n",
              "    <tr>\n",
              "      <th>8</th>\n",
              "      <td>3.2</td>\n",
              "      <td>64445.0</td>\n",
              "    </tr>\n",
              "    <tr>\n",
              "      <th>9</th>\n",
              "      <td>3.7</td>\n",
              "      <td>57189.0</td>\n",
              "    </tr>\n",
              "  </tbody>\n",
              "</table>\n",
              "</div>"
            ],
            "text/plain": [
              "   YearsExperience   Salary\n",
              "0              1.1  39343.0\n",
              "1              1.3  46205.0\n",
              "2              1.5  37731.0\n",
              "3              2.0  43525.0\n",
              "4              2.2  39891.0\n",
              "5              2.9  56642.0\n",
              "6              3.0  60150.0\n",
              "7              3.2  54445.0\n",
              "8              3.2  64445.0\n",
              "9              3.7  57189.0"
            ]
          },
          "metadata": {},
          "execution_count": 4
        }
      ]
    },
    {
      "cell_type": "code",
      "metadata": {
        "colab": {
          "base_uri": "https://localhost:8080/",
          "height": 296
        },
        "id": "gI5K54LWmnKL",
        "outputId": "9ec91f51-cba1-4ae3-d75e-1e688aad4c75"
      },
      "source": [
        "plt.scatter(dataset['YearsExperience'],dataset['Salary'])\n",
        "plt.xlabel('Years of Experience')\n",
        "plt.ylabel(\"Salary\")\n",
        "plt.show()\n",
        "plt.savefig(r'D:\\Python37\\Years of Experience.jpg')"
      ],
      "execution_count": null,
      "outputs": [
        {
          "output_type": "display_data",
          "data": {
            "image/png": "[encoded data removed]",
            "text/plain": [
              "<Figure size 432x288 with 1 Axes>"
            ]
          },
          "metadata": {
            "needs_background": "light"
          }
        },
        {
          "output_type": "display_data",
          "data": {
            "text/plain": [
              "<Figure size 432x288 with 0 Axes>"
            ]
          },
          "metadata": {}
        }
      ]
    },
    {
      "cell_type": "code",
      "metadata": {
        "id": "eyBB71M3mpoD"
      },
      "source": [
        "X = dataset.iloc[:,:-1].values\n",
        "y=dataset.iloc[:,-1].values"
      ],
      "execution_count": null,
      "outputs": []
    },
    {
      "cell_type": "code",
      "metadata": {
        "colab": {
          "base_uri": "https://localhost:8080/"
        },
        "id": "FDd2I6kcmvL7",
        "outputId": "2dcc56a3-dac3-444c-a633-7031ebcbbd91"
      },
      "source": [
        "X"
      ],
      "execution_count": null,
      "outputs": [
        {
          "output_type": "execute_result",
          "data": {
            "text/plain": [
              "array([[ 1.1],\n",
              "       [ 1.3],\n",
              "       [ 1.5],\n",
              "       [ 2. ],\n",
              "       [ 2.2],\n",
              "       [ 2.9],\n",
              "       [ 3. ],\n",
              "       [ 3.2],\n",
              "       [ 3.2],\n",
              "       [ 3.7],\n",
              "       [ 3.9],\n",
              "       [ 4. ],\n",
              "       [ 4. ],\n",
              "       [ 4.1],\n",
              "       [ 4.5],\n",
              "       [ 4.9],\n",
              "       [ 5.1],\n",
              "       [ 5.3],\n",
              "       [ 5.9],\n",
              "       [ 6. ],\n",
              "       [ 6.8],\n",
              "       [ 7.1],\n",
              "       [ 7.9],\n",
              "       [ 8.2],\n",
              "       [ 8.7],\n",
              "       [ 9. ],\n",
              "       [ 9.5],\n",
              "       [ 9.6],\n",
              "       [10.3],\n",
              "       [10.5]])"
            ]
          },
          "metadata": {},
          "execution_count": 8
        }
      ]
    },
    {
      "cell_type": "code",
      "metadata": {
        "colab": {
          "base_uri": "https://localhost:8080/"
        },
        "id": "0Jiv7Z1JmzRz",
        "outputId": "4d1d1a26-85ea-401f-a4a9-a121e31fee57"
      },
      "source": [
        "y"
      ],
      "execution_count": null,
      "outputs": [
        {
          "output_type": "execute_result",
          "data": {
            "text/plain": [
              "array([ 39343.,  46205.,  37731.,  43525.,  39891.,  56642.,  60150.,\n",
              "        54445.,  64445.,  57189.,  63218.,  55794.,  56957.,  57081.,\n",
              "        61111.,  67938.,  66029.,  83088.,  81363.,  93940.,  91738.,\n",
              "        98273., 101302., 113812., 109431., 105582., 116969., 112635.,\n",
              "       122391., 121872.])"
            ]
          },
          "metadata": {},
          "execution_count": 9
        }
      ]
    },
    {
      "cell_type": "code",
      "metadata": {
        "id": "0hcMW7Grm2Qj"
      },
      "source": [
        "from sklearn.model_selection import train_test_split"
      ],
      "execution_count": null,
      "outputs": []
    },
    {
      "cell_type": "code",
      "metadata": {
        "id": "bVO-tXVMm5_9"
      },
      "source": [
        "X_train,X_test,y_train,y_test=train_test_split(X,y,test_size=1/3,random_state=101)"
      ],
      "execution_count": null,
      "outputs": []
    },
    {
      "cell_type": "code",
      "metadata": {
        "colab": {
          "base_uri": "https://localhost:8080/"
        },
        "id": "7p98jvI_m-AL",
        "outputId": "80194261-0c11-45f7-fb0e-4984ebca1753"
      },
      "source": [
        "X_train"
      ],
      "execution_count": null,
      "outputs": [
        {
          "output_type": "execute_result",
          "data": {
            "text/plain": [
              "array([[ 3.9],\n",
              "       [ 2. ],\n",
              "       [ 1.3],\n",
              "       [ 6. ],\n",
              "       [ 7.9],\n",
              "       [ 4. ],\n",
              "       [ 2.9],\n",
              "       [ 4.5],\n",
              "       [ 1.1],\n",
              "       [ 7.1],\n",
              "       [ 2.2],\n",
              "       [ 3.2],\n",
              "       [ 4.1],\n",
              "       [ 3.7],\n",
              "       [ 4.9],\n",
              "       [10.5],\n",
              "       [ 8.2],\n",
              "       [ 3. ],\n",
              "       [ 5.3],\n",
              "       [ 4. ]])"
            ]
          },
          "metadata": {},
          "execution_count": 12
        }
      ]
    },
    {
      "cell_type": "code",
      "metadata": {
        "colab": {
          "base_uri": "https://localhost:8080/"
        },
        "id": "3POLD9EZnBac",
        "outputId": "95108b09-c0c9-48ee-d686-c3aac2c5339a"
      },
      "source": [
        "X_test"
      ],
      "execution_count": null,
      "outputs": [
        {
          "output_type": "execute_result",
          "data": {
            "text/plain": [
              "array([[ 6.8],\n",
              "       [ 8.7],\n",
              "       [ 3.2],\n",
              "       [ 5.9],\n",
              "       [ 1.5],\n",
              "       [ 9.6],\n",
              "       [ 9.5],\n",
              "       [ 5.1],\n",
              "       [ 9. ],\n",
              "       [10.3]])"
            ]
          },
          "metadata": {},
          "execution_count": 13
        }
      ]
    },
    {
      "cell_type": "code",
      "metadata": {
        "colab": {
          "base_uri": "https://localhost:8080/"
        },
        "id": "PtXH_QwvnEzb",
        "outputId": "ff3381bf-cbcf-4f42-8d08-81bb6a27a555"
      },
      "source": [
        "y_train"
      ],
      "execution_count": null,
      "outputs": [
        {
          "output_type": "execute_result",
          "data": {
            "text/plain": [
              "array([ 63218.,  43525.,  46205.,  93940., 101302.,  56957.,  56642.,\n",
              "        61111.,  39343.,  98273.,  39891.,  64445.,  57081.,  57189.,\n",
              "        67938., 121872., 113812.,  60150.,  83088.,  55794.])"
            ]
          },
          "metadata": {},
          "execution_count": 14
        }
      ]
    },
    {
      "cell_type": "code",
      "metadata": {
        "colab": {
          "base_uri": "https://localhost:8080/"
        },
        "id": "x3ZlNQKbnIc0",
        "outputId": "58d19d0e-5b82-407f-da9d-333deccdf25b"
      },
      "source": [
        "y_test"
      ],
      "execution_count": null,
      "outputs": [
        {
          "output_type": "execute_result",
          "data": {
            "text/plain": [
              "array([ 91738., 109431.,  54445.,  81363.,  37731., 112635., 116969.,\n",
              "        66029., 105582., 122391.])"
            ]
          },
          "metadata": {},
          "execution_count": 15
        }
      ]
    },
    {
      "cell_type": "markdown",
      "metadata": {
        "id": "uph19IIUnNLc"
      },
      "source": [
        "#LINEAR REGRESSION"
      ]
    },
    {
      "cell_type": "code",
      "metadata": {
        "id": "OoxKMDkwnQ8T"
      },
      "source": [
        "from sklearn.linear_model import LinearRegression\n",
        "LR=LinearRegression()"
      ],
      "execution_count": null,
      "outputs": []
    },
    {
      "cell_type": "code",
      "metadata": {
        "colab": {
          "base_uri": "https://localhost:8080/"
        },
        "id": "2aAYSFzDnVlz",
        "outputId": "1f3600e6-f94c-4307-9ba7-1e5643fb44a8"
      },
      "source": [
        "LR.fit(X_train,y_train)"
      ],
      "execution_count": null,
      "outputs": [
        {
          "output_type": "execute_result",
          "data": {
            "text/plain": [
              "LinearRegression(copy_X=True, fit_intercept=True, n_jobs=None, normalize=False)"
            ]
          },
          "metadata": {},
          "execution_count": 17
        }
      ]
    },
    {
      "cell_type": "code",
      "metadata": {
        "id": "V80oHwRFndT8"
      },
      "source": [
        "y_pred_LR=LR.predict(X_test)"
      ],
      "execution_count": null,
      "outputs": []
    },
    {
      "cell_type": "code",
      "metadata": {
        "colab": {
          "base_uri": "https://localhost:8080/"
        },
        "id": "Y164JZponh80",
        "outputId": "ef22da1a-af24-4d5a-8e50-19db573e8744"
      },
      "source": [
        "X_test"
      ],
      "execution_count": null,
      "outputs": [
        {
          "output_type": "execute_result",
          "data": {
            "text/plain": [
              "array([[ 6.8],\n",
              "       [ 8.7],\n",
              "       [ 3.2],\n",
              "       [ 5.9],\n",
              "       [ 1.5],\n",
              "       [ 9.6],\n",
              "       [ 9.5],\n",
              "       [ 5.1],\n",
              "       [ 9. ],\n",
              "       [10.3]])"
            ]
          },
          "metadata": {},
          "execution_count": 19
        }
      ]
    },
    {
      "cell_type": "code",
      "metadata": {
        "colab": {
          "base_uri": "https://localhost:8080/"
        },
        "id": "FK3JW6BEnl47",
        "outputId": "45eee318-db02-4cce-d2ff-b2f5e0abba0d"
      },
      "source": [
        "y_test"
      ],
      "execution_count": null,
      "outputs": [
        {
          "output_type": "execute_result",
          "data": {
            "text/plain": [
              "array([ 91738., 109431.,  54445.,  81363.,  37731., 112635., 116969.,\n",
              "        66029., 105582., 122391.])"
            ]
          },
          "metadata": {},
          "execution_count": 20
        }
      ]
    },
    {
      "cell_type": "code",
      "metadata": {
        "colab": {
          "base_uri": "https://localhost:8080/"
        },
        "id": "QGXBA2KLnprj",
        "outputId": "7082186f-daf9-4145-b15f-0690ad834790"
      },
      "source": [
        "y_pred_LR"
      ],
      "execution_count": null,
      "outputs": [
        {
          "output_type": "execute_result",
          "data": {
            "text/plain": [
              "array([ 91477.92796603, 109893.22802466,  56585.7804865 ,  82754.89109615,\n",
              "        40108.93306562, 118616.26489454, 117647.03857567,  75001.08054514,\n",
              "       112800.90698129, 125400.84912667])"
            ]
          },
          "metadata": {},
          "execution_count": 21
        }
      ]
    },
    {
      "cell_type": "code",
      "metadata": {
        "id": "omcxHdg9ntK2"
      },
      "source": [
        "diff_LR=y_test-y_pred_LR"
      ],
      "execution_count": null,
      "outputs": []
    },
    {
      "cell_type": "code",
      "metadata": {
        "id": "o3co2jAHnxJD"
      },
      "source": [
        "res_df=pd.concat([pd.Series(y_pred_LR),pd.Series(y_test),pd.Series(diff_LR)],axis=1)\n",
        "res_df.columns=['Prediction','Original Data','Diff']"
      ],
      "execution_count": null,
      "outputs": []
    },
    {
      "cell_type": "code",
      "metadata": {
        "colab": {
          "base_uri": "https://localhost:8080/",
          "height": 357
        },
        "id": "ZumsCOxFn1F0",
        "outputId": "bb6ff023-b6c3-40db-8d6a-c9d3c656c521"
      },
      "source": [
        "res_df"
      ],
      "execution_count": null,
      "outputs": [
        {
          "output_type": "execute_result",
          "data": {
            "text/html": [
              "<div>\n",
              "<style scoped>\n",
              "    .dataframe tbody tr th:only-of-type {\n",
              "        vertical-align: middle;\n",
              "    }\n",
              "\n",
              "    .dataframe tbody tr th {\n",
              "        vertical-align: top;\n",
              "    }\n",
              "\n",
              "    .dataframe thead th {\n",
              "        text-align: right;\n",
              "    }\n",
              "</style>\n",
              "<table border=\"1\" class=\"dataframe\">\n",
              "  <thead>\n",
              "    <tr style=\"text-align: right;\">\n",
              "      <th></th>\n",
              "      <th>Prediction</th>\n",
              "      <th>Original Data</th>\n",
              "      <th>Diff</th>\n",
              "    </tr>\n",
              "  </thead>\n",
              "  <tbody>\n",
              "    <tr>\n",
              "      <th>0</th>\n",
              "      <td>91477.927966</td>\n",
              "      <td>91738.0</td>\n",
              "      <td>260.072034</td>\n",
              "    </tr>\n",
              "    <tr>\n",
              "      <th>1</th>\n",
              "      <td>109893.228025</td>\n",
              "      <td>109431.0</td>\n",
              "      <td>-462.228025</td>\n",
              "    </tr>\n",
              "    <tr>\n",
              "      <th>2</th>\n",
              "      <td>56585.780487</td>\n",
              "      <td>54445.0</td>\n",
              "      <td>-2140.780487</td>\n",
              "    </tr>\n",
              "    <tr>\n",
              "      <th>3</th>\n",
              "      <td>82754.891096</td>\n",
              "      <td>81363.0</td>\n",
              "      <td>-1391.891096</td>\n",
              "    </tr>\n",
              "    <tr>\n",
              "      <th>4</th>\n",
              "      <td>40108.933066</td>\n",
              "      <td>37731.0</td>\n",
              "      <td>-2377.933066</td>\n",
              "    </tr>\n",
              "    <tr>\n",
              "      <th>5</th>\n",
              "      <td>118616.264895</td>\n",
              "      <td>112635.0</td>\n",
              "      <td>-5981.264895</td>\n",
              "    </tr>\n",
              "    <tr>\n",
              "      <th>6</th>\n",
              "      <td>117647.038576</td>\n",
              "      <td>116969.0</td>\n",
              "      <td>-678.038576</td>\n",
              "    </tr>\n",
              "    <tr>\n",
              "      <th>7</th>\n",
              "      <td>75001.080545</td>\n",
              "      <td>66029.0</td>\n",
              "      <td>-8972.080545</td>\n",
              "    </tr>\n",
              "    <tr>\n",
              "      <th>8</th>\n",
              "      <td>112800.906981</td>\n",
              "      <td>105582.0</td>\n",
              "      <td>-7218.906981</td>\n",
              "    </tr>\n",
              "    <tr>\n",
              "      <th>9</th>\n",
              "      <td>125400.849127</td>\n",
              "      <td>122391.0</td>\n",
              "      <td>-3009.849127</td>\n",
              "    </tr>\n",
              "  </tbody>\n",
              "</table>\n",
              "</div>"
            ],
            "text/plain": [
              "      Prediction  Original Data         Diff\n",
              "0   91477.927966        91738.0   260.072034\n",
              "1  109893.228025       109431.0  -462.228025\n",
              "2   56585.780487        54445.0 -2140.780487\n",
              "3   82754.891096        81363.0 -1391.891096\n",
              "4   40108.933066        37731.0 -2377.933066\n",
              "5  118616.264895       112635.0 -5981.264895\n",
              "6  117647.038576       116969.0  -678.038576\n",
              "7   75001.080545        66029.0 -8972.080545\n",
              "8  112800.906981       105582.0 -7218.906981\n",
              "9  125400.849127       122391.0 -3009.849127"
            ]
          },
          "metadata": {},
          "execution_count": 24
        }
      ]
    },
    {
      "cell_type": "code",
      "metadata": {
        "colab": {
          "base_uri": "https://localhost:8080/",
          "height": 295
        },
        "id": "--O63YhAn7Bf",
        "outputId": "8e2914a5-b06f-47ee-d631-ca02f5586267"
      },
      "source": [
        "plt.scatter(X_train,y_train,color='blue')\n",
        "plt.plot(X_train,LR.predict(X_train),color='red')\n",
        "plt.title('Salary vs Experience')\n",
        "plt.xlabel('Years of Experience')\n",
        "plt.ylabel(\"Salary\")\n",
        "plt.savefig(r'D:\\Python37\\Years of Experience.png')\n",
        "plt.show()"
      ],
      "execution_count": null,
      "outputs": [
        {
          "output_type": "display_data",
          "data": {
            "image/png": "[encoded data removed]",
            "text/plain": [
              "<Figure size 432x288 with 1 Axes>"
            ]
          },
          "metadata": {
            "needs_background": "light"
          }
        }
      ]
    },
    {
      "cell_type": "code",
      "metadata": {
        "colab": {
          "base_uri": "https://localhost:8080/",
          "height": 295
        },
        "id": "zm6Fwgctn_w2",
        "outputId": "f627b30d-232a-4535-cdbc-993ed69c2c2c"
      },
      "source": [
        "plt.scatter(X_test,y_test,color='blue')\n",
        "plt.plot(X_train,LR.predict(X_train),color='red')\n",
        "plt.title('Salary vs Experience (Test Set)')\n",
        "plt.xlabel('Years of Experience')\n",
        "plt.ylabel(\"Salary\")\n",
        "plt.show()"
      ],
      "execution_count": null,
      "outputs": [
        {
          "output_type": "display_data",
          "data": {
            "image/png": "[encoded data removed]",
            "text/plain": [
              "<Figure size 432x288 with 1 Axes>"
            ]
          },
          "metadata": {
            "needs_background": "light"
          }
        }
      ]
    },
    {
      "cell_type": "markdown",
      "metadata": {
        "id": "a3tMGKkToDhd"
      },
      "source": [
        "##METRICS"
      ]
    },
    {
      "cell_type": "code",
      "metadata": {
        "id": "LLA46O3qoF58"
      },
      "source": [
        "from sklearn import metrics\n",
        "rmse= np.sqrt(metrics.mean_squared_error(y_test,y_pred_LR))\n",
        "R2=metrics.r2_score(y_test,y_pred_LR)"
      ],
      "execution_count": null,
      "outputs": []
    },
    {
      "cell_type": "code",
      "metadata": {
        "colab": {
          "base_uri": "https://localhost:8080/"
        },
        "id": "SDG3HAj_oLi1",
        "outputId": "8724641c-0ee8-4513-d56f-1c88f9aa3faa"
      },
      "source": [
        "rmse"
      ],
      "execution_count": null,
      "outputs": [
        {
          "output_type": "execute_result",
          "data": {
            "text/plain": [
              "4363.043260343273"
            ]
          },
          "metadata": {},
          "execution_count": 28
        }
      ]
    },
    {
      "cell_type": "code",
      "metadata": {
        "id": "EatVRBqHDtoc"
      },
      "source": [
        ""
      ],
      "execution_count": null,
      "outputs": []
    },
    {
      "cell_type": "code",
      "metadata": {
        "colab": {
          "base_uri": "https://localhost:8080/"
        },
        "id": "OGc9XmphoPHM",
        "outputId": "dc382579-ec80-4f8e-d32c-bb5379b657ea"
      },
      "source": [
        "R2"
      ],
      "execution_count": null,
      "outputs": [
        {
          "output_type": "execute_result",
          "data": {
            "text/plain": [
              "0.974811112371526"
            ]
          },
          "metadata": {},
          "execution_count": 29
        }
      ]
    },
    {
      "cell_type": "code",
      "metadata": {
        "colab": {
          "base_uri": "https://localhost:8080/"
        },
        "id": "KnzrukrgoRl8",
        "outputId": "1de4abd5-1a06-4bdf-ddd3-863eb81c8e03"
      },
      "source": [
        "LR.predict([[3]])"
      ],
      "execution_count": null,
      "outputs": [
        {
          "output_type": "execute_result",
          "data": {
            "text/plain": [
              "array([54647.32784875])"
            ]
          },
          "metadata": {},
          "execution_count": 30
        }
      ]
    },
    {
      "cell_type": "markdown",
      "metadata": {
        "id": "HGaQN0GfDsfb"
      },
      "source": [
        ""
      ]
    }
  ]
}